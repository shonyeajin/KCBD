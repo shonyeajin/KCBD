{
  "nbformat": 4,
  "nbformat_minor": 0,
  "metadata": {
    "colab": {
      "name": "1D_CNN_and_RNN",
      "provenance": [],
      "authorship_tag": "ABX9TyOY4hoi70UiKlc2MXJ4gUmw",
      "include_colab_link": true
    },
    "kernelspec": {
      "name": "python3",
      "display_name": "Python 3"
    },
    "language_info": {
      "name": "python"
    }
  },
  "cells": [
    {
      "cell_type": "markdown",
      "metadata": {
        "id": "view-in-github",
        "colab_type": "text"
      },
      "source": [
        "<a href=\"https://colab.research.google.com/github/shonyeajin/KCBD/blob/main/1D_CNN_and_RNN.ipynb\" target=\"_parent\"><img src=\"https://colab.research.google.com/assets/colab-badge.svg\" alt=\"Open In Colab\"/></a>"
      ]
    },
    {
      "cell_type": "code",
      "execution_count": 3,
      "metadata": {
        "colab": {
          "base_uri": "https://localhost:8080/"
        },
        "id": "z4h_Q2ZpGnP-",
        "outputId": "b3bfb6bf-61e3-4b0e-f42b-e0f933146e23"
      },
      "outputs": [
        {
          "output_type": "stream",
          "name": "stdout",
          "text": [
            "데이터 로드...\n",
            "25000 훈련 시퀀스\n",
            "25000 테스트 시퀀스\n",
            "시퀀스 패딩 (samples x time)\n",
            "x_train 크기: (25000, 500)\n",
            "x_test 크기: (25000, 500)\n"
          ]
        }
      ],
      "source": [
        "from keras.datasets import imdb\n",
        "from keras.preprocessing import sequence\n",
        "\n",
        "max_features=10000\n",
        "max_len=500\n",
        "\n",
        "print('데이터 로드...')\n",
        "(x_train, y_train),(x_test, y_test)=imdb.load_data(num_words=max_features)\n",
        "print(len(x_train), '훈련 시퀀스')\n",
        "print(len(x_test), '테스트 시퀀스')\n",
        "\n",
        "print('시퀀스 패딩 (samples x time)')\n",
        "x_train=sequence.pad_sequences(x_train,maxlen=max_len)\n",
        "x_test=sequence.pad_sequences(x_test, maxlen=max_len)\n",
        "print('x_train 크기:', x_train.shape)\n",
        "print('x_test 크기:', x_test.shape)\n"
      ]
    },
    {
      "cell_type": "code",
      "source": [
        "from keras.models import Sequential\n",
        "from keras import layers\n",
        "from tensorflow.keras.optimizers import RMSprop\n",
        "\n",
        "model= Sequential()\n",
        "model.add(layers.Embedding(max_features, 128, input_length=max_len))\n",
        "model.add(layers.Conv1D(32, 7, activation='relu'))\n",
        "model.add(layers.MaxPooling1D(5))\n",
        "model.add(layers.Conv1D(32, 7, activation='relu'))\n",
        "model.add(layers.GlobalMaxPooling1D())\n",
        "model.add(layers.Dense(1))\n",
        "\n",
        "model.summary()\n"
      ],
      "metadata": {
        "colab": {
          "base_uri": "https://localhost:8080/"
        },
        "id": "dIh6DCfbLxj7",
        "outputId": "879c2e6b-6b91-498c-bdc4-342ffee5258a"
      },
      "execution_count": 6,
      "outputs": [
        {
          "output_type": "stream",
          "name": "stdout",
          "text": [
            "Model: \"sequential\"\n",
            "_________________________________________________________________\n",
            " Layer (type)                Output Shape              Param #   \n",
            "=================================================================\n",
            " embedding (Embedding)       (None, 500, 128)          1280000   \n",
            "                                                                 \n",
            " conv1d (Conv1D)             (None, 494, 32)           28704     \n",
            "                                                                 \n",
            " max_pooling1d (MaxPooling1D  (None, 98, 32)           0         \n",
            " )                                                               \n",
            "                                                                 \n",
            " conv1d_1 (Conv1D)           (None, 92, 32)            7200      \n",
            "                                                                 \n",
            " global_max_pooling1d (Globa  (None, 32)               0         \n",
            " lMaxPooling1D)                                                  \n",
            "                                                                 \n",
            " dense (Dense)               (None, 1)                 33        \n",
            "                                                                 \n",
            "=================================================================\n",
            "Total params: 1,315,937\n",
            "Trainable params: 1,315,937\n",
            "Non-trainable params: 0\n",
            "_________________________________________________________________\n"
          ]
        }
      ]
    },
    {
      "cell_type": "code",
      "source": [
        "model.compile(optimizer=RMSprop(lr=1e-4),\n",
        "              loss='binary_crossentropy',\n",
        "              metrics=['acc'])\n",
        "history=model.fit(x_train, y_train, epochs=10,\n",
        "                  batch_size=128,\n",
        "                  validation_split=0.2)"
      ],
      "metadata": {
        "colab": {
          "base_uri": "https://localhost:8080/"
        },
        "id": "nnCqSsSScSid",
        "outputId": "17405dd0-b632-4241-bd2f-a44af83c2a8b"
      },
      "execution_count": 7,
      "outputs": [
        {
          "output_type": "stream",
          "name": "stderr",
          "text": [
            "/usr/local/lib/python3.7/dist-packages/keras/optimizer_v2/rmsprop.py:130: UserWarning: The `lr` argument is deprecated, use `learning_rate` instead.\n",
            "  super(RMSprop, self).__init__(name, **kwargs)\n"
          ]
        },
        {
          "output_type": "stream",
          "name": "stdout",
          "text": [
            "Epoch 1/10\n",
            "157/157 [==============================] - 74s 462ms/step - loss: 0.8330 - acc: 0.5140 - val_loss: 0.6897 - val_acc: 0.5142\n",
            "Epoch 2/10\n",
            "157/157 [==============================] - 72s 461ms/step - loss: 0.6679 - acc: 0.6532 - val_loss: 0.6645 - val_acc: 0.6730\n",
            "Epoch 3/10\n",
            "157/157 [==============================] - 72s 458ms/step - loss: 0.6188 - acc: 0.7679 - val_loss: 0.6072 - val_acc: 0.7168\n",
            "Epoch 4/10\n",
            "157/157 [==============================] - 72s 458ms/step - loss: 0.5198 - acc: 0.8144 - val_loss: 0.4844 - val_acc: 0.8036\n",
            "Epoch 5/10\n",
            "157/157 [==============================] - 72s 457ms/step - loss: 0.3979 - acc: 0.8514 - val_loss: 0.4114 - val_acc: 0.8378\n",
            "Epoch 6/10\n",
            "157/157 [==============================] - 72s 458ms/step - loss: 0.3303 - acc: 0.8794 - val_loss: 0.4261 - val_acc: 0.8448\n",
            "Epoch 7/10\n",
            "157/157 [==============================] - 72s 456ms/step - loss: 0.2927 - acc: 0.8974 - val_loss: 0.4057 - val_acc: 0.8610\n",
            "Epoch 8/10\n",
            "157/157 [==============================] - 72s 458ms/step - loss: 0.2605 - acc: 0.9107 - val_loss: 0.4049 - val_acc: 0.8644\n",
            "Epoch 9/10\n",
            "157/157 [==============================] - 72s 458ms/step - loss: 0.2362 - acc: 0.9220 - val_loss: 0.4240 - val_acc: 0.8660\n",
            "Epoch 10/10\n",
            "157/157 [==============================] - 72s 459ms/step - loss: 0.2165 - acc: 0.9296 - val_loss: 0.4487 - val_acc: 0.8696\n"
          ]
        }
      ]
    }
  ]
}