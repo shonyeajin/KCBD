{
  "nbformat": 4,
  "nbformat_minor": 0,
  "metadata": {
    "colab": {
      "name": "케라스 콜백과 텐서보드를 사용하여 검사와 모니터링",
      "provenance": [],
      "authorship_tag": "ABX9TyPP//p1h0V4AcGvInyZCPyR",
      "include_colab_link": true
    },
    "kernelspec": {
      "name": "python3",
      "display_name": "Python 3"
    },
    "language_info": {
      "name": "python"
    },
    "accelerator": "GPU"
  },
  "cells": [
    {
      "cell_type": "markdown",
      "metadata": {
        "id": "view-in-github",
        "colab_type": "text"
      },
      "source": [
        "<a href=\"https://colab.research.google.com/github/shonyeajin/KCBD/blob/main/%EC%BC%80%EB%9D%BC%EC%8A%A4_%EC%BD%9C%EB%B0%B1%EA%B3%BC_%ED%85%90%EC%84%9C%EB%B3%B4%EB%93%9C%EB%A5%BC_%EC%82%AC%EC%9A%A9%ED%95%98%EC%97%AC_%EA%B2%80%EC%82%AC%EC%99%80_%EB%AA%A8%EB%8B%88%ED%84%B0%EB%A7%81.ipynb\" target=\"_parent\"><img src=\"https://colab.research.google.com/assets/colab-badge.svg\" alt=\"Open In Colab\"/></a>"
      ]
    },
    {
      "cell_type": "markdown",
      "source": [
        "ModelCheckPoint 와 EarlyStopping 콜백\n"
      ],
      "metadata": {
        "id": "s7UPFERK3EkI"
      }
    },
    {
      "cell_type": "code",
      "execution_count": null,
      "metadata": {
        "id": "DXx6LncfzcHE"
      },
      "outputs": [],
      "source": [
        "import keras\n",
        "\n",
        "callbacks_list=[\n",
        "                keras.callbacks.EarlyStopping(\n",
        "                    monitor='val_acc',\n",
        "                    patience=1,\n",
        "                ),\n",
        "                keras.callbacks.ModelCheckpoint(\n",
        "                    filepath='my_model.h5',\n",
        "                    monitor='val_loss',\n",
        "                    save_best_only=True,\n",
        "                )\n",
        "]\n",
        "model.compile(optimizer='rmsprop',\n",
        "              loss='binary_crossentropy',\n",
        "              metrics=['acc'])\n",
        "model.fit(x,y,\n",
        "          epochs=10,\n",
        "          batch_size=32,\n",
        "          callbacks=callbacks_list,\n",
        "          validation_data=(x_val, y_val))"
      ]
    },
    {
      "cell_type": "markdown",
      "source": [
        "ReduceLROnPlateau 콜백\n"
      ],
      "metadata": {
        "id": "Ir1h7aCl3GKZ"
      }
    },
    {
      "cell_type": "code",
      "source": [
        "callbacks_list=[\n",
        "               keras.callback.ReduceLROnPlateau(\n",
        "                   monitor='val_loss',\n",
        "                   factor=0.1,\n",
        "                   patience=10,\n",
        "               )\n",
        "]\n",
        "\n",
        "model.fit(x,y,\n",
        "          epcohs=10,\n",
        "          batch_size=32,\n",
        "          callbacks=callbacks_list,\n",
        "          validation_data=(x_val, y_val))"
      ],
      "metadata": {
        "id": "PkesPM2g3Jon"
      },
      "execution_count": null,
      "outputs": []
    },
    {
      "cell_type": "markdown",
      "source": [
        "자신의 콜백 만들기\n",
        "(매 에포크의 끝에서 검증 세트의 첫 번쨰 샘플로 모델이 있는 모든 층이 활성화 출력을 계산하여 (넘파이 배열로) 디스크레 저장하는 자작 콜백의 예)"
      ],
      "metadata": {
        "id": "7dLWN8TN3l3a"
      }
    },
    {
      "cell_type": "code",
      "source": [
        "import keras\n",
        "import numpy as np\n",
        "\n",
        "class ActivationLogger(keras.callbacks.Callback):\n",
        "  def set_model(self, model):\n",
        "    self.model=model\n",
        "    layers_outputs=[layer.output for layer in model.layers]\n",
        "    self.activations_model=keras.models.Model(model.input, layer_outputs)\n",
        "\n",
        "  def on_epoch_end(self, epoch, logs=None):\n",
        "    if self.validation_data is None:\n",
        "      raise RuntimeError('Requires validation_data.')\n",
        "\n",
        "    validation_sample=self.validation_data[0][0:1]\n",
        "    activations=self.activations_model.predict(validation_sample)\n",
        "    f=open('activations_at_epoch_'+str(epoch)+'.npz', 'wb')\n",
        "    np.savez(f, activations)\n",
        "    f.close()"
      ],
      "metadata": {
        "id": "YKu582vS3noG"
      },
      "execution_count": null,
      "outputs": []
    },
    {
      "cell_type": "markdown",
      "source": [
        "텐서보드를 사용한 텍스트 분류 모델"
      ],
      "metadata": {
        "id": "uOtwC7nH8hVA"
      }
    },
    {
      "cell_type": "code",
      "source": [
        "import keras\n",
        "from keras import layers\n",
        "from keras.datasets import imdb\n",
        "from keras.preprocessing import sequence\n",
        "\n",
        "max_features=2000\n",
        "max_len=500\n",
        "\n",
        "(x_train, y_train), (x_test, y_test) = imdb.load_data(num_words=max_features)\n",
        "x_train=sequence.pad_sequences(x_train, maxlen=max_len)\n",
        "x_test=sequence.pad_sequences(x_test, maxlen=max_len)\n",
        "\n",
        "model= keras.models.Sequential()\n",
        "model.add(layers.Embedding(max_features, 128, input_length=max_len, name='embed'))\n",
        "model.add(layers.Conv1D(32, 7, activation='relu'))\n",
        "model.add(layers.MaxPooling1D(5))\n",
        "model.add(layers.Conv1D(32, 7, activation='relu'))\n",
        "model.add(layers.GlobalMaxPooling1D())\n",
        "model.add(layers.Dense(1))\n",
        "model.summary()\n",
        "model.compile(optimizer='rmsprop', loss='binary_crossentropy', metrics=['acc'])"
      ],
      "metadata": {
        "colab": {
          "base_uri": "https://localhost:8080/"
        },
        "id": "5pztwPpZ67jQ",
        "outputId": "8c8d9696-f56c-4ad2-a812-e02710c66b06"
      },
      "execution_count": 1,
      "outputs": [
        {
          "output_type": "stream",
          "name": "stdout",
          "text": [
            "Downloading data from https://storage.googleapis.com/tensorflow/tf-keras-datasets/imdb.npz\n",
            "17465344/17464789 [==============================] - 2s 0us/step\n",
            "17473536/17464789 [==============================] - 2s 0us/step\n",
            "Model: \"sequential\"\n",
            "_________________________________________________________________\n",
            " Layer (type)                Output Shape              Param #   \n",
            "=================================================================\n",
            " embed (Embedding)           (None, 500, 128)          256000    \n",
            "                                                                 \n",
            " conv1d (Conv1D)             (None, 494, 32)           28704     \n",
            "                                                                 \n",
            " max_pooling1d (MaxPooling1D  (None, 98, 32)           0         \n",
            " )                                                               \n",
            "                                                                 \n",
            " conv1d_1 (Conv1D)           (None, 92, 32)            7200      \n",
            "                                                                 \n",
            " global_max_pooling1d (Globa  (None, 32)               0         \n",
            " lMaxPooling1D)                                                  \n",
            "                                                                 \n",
            " dense (Dense)               (None, 1)                 33        \n",
            "                                                                 \n",
            "=================================================================\n",
            "Total params: 291,937\n",
            "Trainable params: 291,937\n",
            "Non-trainable params: 0\n",
            "_________________________________________________________________\n"
          ]
        }
      ]
    },
    {
      "cell_type": "code",
      "source": [
        "!mkdir my_log_dir"
      ],
      "metadata": {
        "id": "p7g1tHpm-Dlf"
      },
      "execution_count": 2,
      "outputs": []
    },
    {
      "cell_type": "code",
      "source": [
        "callbacks=[\n",
        "           keras.callbacks.TensorBoard(\n",
        "               log_dir='my_log_dir',\n",
        "               histogram_freq=1,\n",
        "               embeddings_freq=1,\n",
        "           )\n",
        "]\n",
        "history=model.fit(x_train, y_train, epochs=20,\n",
        "                  batch_size=128,\n",
        "                  validation_split=0.2,\n",
        "                  callbacks=callbacks)"
      ],
      "metadata": {
        "colab": {
          "base_uri": "https://localhost:8080/"
        },
        "id": "7k7gXuEO-Uc7",
        "outputId": "52f04395-d700-49fc-ec04-5f491284ffa0"
      },
      "execution_count": 4,
      "outputs": [
        {
          "output_type": "stream",
          "name": "stdout",
          "text": [
            "Epoch 1/20\n",
            "157/157 [==============================] - 13s 24ms/step - loss: 0.5810 - acc: 0.6883 - val_loss: 0.4315 - val_acc: 0.8300\n",
            "Epoch 2/20\n",
            "157/157 [==============================] - 3s 21ms/step - loss: 0.4299 - acc: 0.8541 - val_loss: 0.4230 - val_acc: 0.8582\n",
            "Epoch 3/20\n",
            "157/157 [==============================] - 3s 22ms/step - loss: 0.3631 - acc: 0.8867 - val_loss: 0.4650 - val_acc: 0.8666\n",
            "Epoch 4/20\n",
            "157/157 [==============================] - 3s 21ms/step - loss: 0.3192 - acc: 0.9071 - val_loss: 0.4930 - val_acc: 0.8676\n",
            "Epoch 5/20\n",
            "157/157 [==============================] - 3s 22ms/step - loss: 0.2706 - acc: 0.9280 - val_loss: 0.5727 - val_acc: 0.8678\n",
            "Epoch 6/20\n",
            "157/157 [==============================] - 3s 21ms/step - loss: 0.2414 - acc: 0.9419 - val_loss: 0.6522 - val_acc: 0.8670\n",
            "Epoch 7/20\n",
            "157/157 [==============================] - 3s 22ms/step - loss: 0.2085 - acc: 0.9590 - val_loss: 0.7278 - val_acc: 0.8692\n",
            "Epoch 8/20\n",
            "157/157 [==============================] - 3s 21ms/step - loss: 0.1980 - acc: 0.9688 - val_loss: 0.7540 - val_acc: 0.8666\n",
            "Epoch 9/20\n",
            "157/157 [==============================] - 4s 23ms/step - loss: 0.1394 - acc: 0.9815 - val_loss: 0.9423 - val_acc: 0.8540\n",
            "Epoch 10/20\n",
            "157/157 [==============================] - 3s 21ms/step - loss: 0.1213 - acc: 0.9862 - val_loss: 0.9628 - val_acc: 0.8634\n",
            "Epoch 11/20\n",
            "157/157 [==============================] - 3s 21ms/step - loss: 0.1087 - acc: 0.9900 - val_loss: 1.0417 - val_acc: 0.8652\n",
            "Epoch 12/20\n",
            "157/157 [==============================] - 3s 21ms/step - loss: 0.1046 - acc: 0.9898 - val_loss: 1.0872 - val_acc: 0.8644\n",
            "Epoch 13/20\n",
            "157/157 [==============================] - 3s 21ms/step - loss: 0.1009 - acc: 0.9904 - val_loss: 1.1425 - val_acc: 0.8636\n",
            "Epoch 14/20\n",
            "157/157 [==============================] - 3s 21ms/step - loss: 0.1000 - acc: 0.9914 - val_loss: 1.1323 - val_acc: 0.8640\n",
            "Epoch 15/20\n",
            "157/157 [==============================] - 3s 21ms/step - loss: 0.0984 - acc: 0.9921 - val_loss: 1.1435 - val_acc: 0.8668\n",
            "Epoch 16/20\n",
            "157/157 [==============================] - 3s 22ms/step - loss: 0.0993 - acc: 0.9911 - val_loss: 1.1953 - val_acc: 0.8680\n",
            "Epoch 17/20\n",
            "157/157 [==============================] - 3s 21ms/step - loss: 0.0969 - acc: 0.9923 - val_loss: 1.3306 - val_acc: 0.8494\n",
            "Epoch 18/20\n",
            "157/157 [==============================] - 3s 21ms/step - loss: 0.0978 - acc: 0.9912 - val_loss: 1.3268 - val_acc: 0.8536\n",
            "Epoch 19/20\n",
            "157/157 [==============================] - 3s 22ms/step - loss: 0.0947 - acc: 0.9930 - val_loss: 1.2886 - val_acc: 0.8642\n",
            "Epoch 20/20\n",
            "157/157 [==============================] - 3s 22ms/step - loss: 0.0954 - acc: 0.9920 - val_loss: 1.3426 - val_acc: 0.8618\n"
          ]
        }
      ]
    },
    {
      "cell_type": "code",
      "source": [
        "!tensorboard --logdir=my_log_dir"
      ],
      "metadata": {
        "colab": {
          "base_uri": "https://localhost:8080/"
        },
        "id": "nJPRr31b-tm7",
        "outputId": "3ad49d1a-3e10-4f34-812b-0949cba42b37"
      },
      "execution_count": 5,
      "outputs": [
        {
          "output_type": "stream",
          "name": "stdout",
          "text": [
            "\n",
            "NOTE: Using experimental fast data loading logic. To disable, pass\n",
            "    \"--load_fast=false\" and report issues on GitHub. More details:\n",
            "    https://github.com/tensorflow/tensorboard/issues/4784\n",
            "\n",
            "Serving TensorBoard on localhost; to expose to the network, use a proxy or pass --bind_all\n",
            "TensorBoard 2.7.0 at http://localhost:6006/ (Press CTRL+C to quit)\n",
            "^C\n"
          ]
        }
      ]
    },
    {
      "cell_type": "code",
      "source": [
        ""
      ],
      "metadata": {
        "id": "YJY4AB3O_ee_"
      },
      "execution_count": null,
      "outputs": []
    }
  ]
}