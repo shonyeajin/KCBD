{
  "nbformat": 4,
  "nbformat_minor": 0,
  "metadata": {
    "colab": {
      "name": "함수형 API 사용",
      "provenance": [],
      "authorship_tag": "ABX9TyOEZc8DDQDRxLsEbsqzZ6Vd",
      "include_colab_link": true
    },
    "kernelspec": {
      "name": "python3",
      "display_name": "Python 3"
    },
    "language_info": {
      "name": "python"
    },
    "accelerator": "GPU"
  },
  "cells": [
    {
      "cell_type": "markdown",
      "metadata": {
        "id": "view-in-github",
        "colab_type": "text"
      },
      "source": [
        "<a href=\"https://colab.research.google.com/github/shonyeajin/KCBD/blob/main/%ED%95%A8%EC%88%98%ED%98%95_API_%EC%82%AC%EC%9A%A9.ipynb\" target=\"_parent\"><img src=\"https://colab.research.google.com/assets/colab-badge.svg\" alt=\"Open In Colab\"/></a>"
      ]
    },
    {
      "cell_type": "code",
      "execution_count": 1,
      "metadata": {
        "id": "CDV_5GUunUzw"
      },
      "outputs": [],
      "source": [
        "from keras import Input, layers"
      ]
    },
    {
      "cell_type": "code",
      "source": [
        "input_tensor=Input(shape=(32,))\n",
        "dense=layers.Dense(32, activation='relu')\n",
        "output_tensor=dense(input_tensor)"
      ],
      "metadata": {
        "id": "TbTHbpLbndCk"
      },
      "execution_count": 2,
      "outputs": []
    },
    {
      "cell_type": "code",
      "source": [
        "from keras.models import Sequential, Model\n",
        "from keras import layers\n",
        "from keras import Input"
      ],
      "metadata": {
        "id": "IBMkKM7dnvAI"
      },
      "execution_count": 3,
      "outputs": []
    },
    {
      "cell_type": "code",
      "source": [
        "seq_model=Sequential()\n",
        "seq_model.add(layers.Dense(32, activation='relu', input_shape=(64,)))\n",
        "seq_model.add(layers.Dense(32, activation='relu'))\n",
        "seq_model.add(layers.Dense(10, activation='softmax'))\n"
      ],
      "metadata": {
        "id": "wVk4f355X98g"
      },
      "execution_count": 5,
      "outputs": []
    },
    {
      "cell_type": "code",
      "source": [
        "input_tensor=Input(shape=(64,))\n",
        "x=layers.Dense(32, activation='relu')(input_tensor)\n",
        "x=layers.Dense(32, activation='relu')(x)\n",
        "output_tensor=layers.Dense(10, activation='softmax')(x)\n",
        "\n",
        "model=Model(input_tensor, output_tensor)\n",
        "model.summary()"
      ],
      "metadata": {
        "colab": {
          "base_uri": "https://localhost:8080/"
        },
        "id": "F2x7EcqcYvgl",
        "outputId": "dce315ca-3f0b-470d-cf35-f0778543a8d8"
      },
      "execution_count": 6,
      "outputs": [
        {
          "output_type": "stream",
          "name": "stdout",
          "text": [
            "Model: \"model\"\n",
            "_________________________________________________________________\n",
            " Layer (type)                Output Shape              Param #   \n",
            "=================================================================\n",
            " input_2 (InputLayer)        [(None, 64)]              0         \n",
            "                                                                 \n",
            " dense_5 (Dense)             (None, 32)                2080      \n",
            "                                                                 \n",
            " dense_6 (Dense)             (None, 32)                1056      \n",
            "                                                                 \n",
            " dense_7 (Dense)             (None, 10)                330       \n",
            "                                                                 \n",
            "=================================================================\n",
            "Total params: 3,466\n",
            "Trainable params: 3,466\n",
            "Non-trainable params: 0\n",
            "_________________________________________________________________\n"
          ]
        }
      ]
    },
    {
      "cell_type": "code",
      "source": [
        "model.compile(optimizer='rmsprop', loss='categorical_crossentropy')\n",
        "import numpy as np\n",
        "x_train=np.random.random((1000,64))\n",
        "y_train=np.random.random((1000,10))\n",
        "\n",
        "model.fit(x_train, y_train, epochs=10, batch_size=128)\n",
        "score=model.evaluate(x_train, y_train)"
      ],
      "metadata": {
        "colab": {
          "base_uri": "https://localhost:8080/"
        },
        "id": "SagX84FYZ5f1",
        "outputId": "8b4c64ed-9836-409e-924f-cb8604e8ffe3"
      },
      "execution_count": 7,
      "outputs": [
        {
          "output_type": "stream",
          "name": "stdout",
          "text": [
            "Epoch 1/10\n",
            "8/8 [==============================] - 2s 3ms/step - loss: 11.7998\n",
            "Epoch 2/10\n",
            "8/8 [==============================] - 0s 3ms/step - loss: 12.3408\n",
            "Epoch 3/10\n",
            "8/8 [==============================] - 0s 3ms/step - loss: 13.1821\n",
            "Epoch 4/10\n",
            "8/8 [==============================] - 0s 3ms/step - loss: 14.2792\n",
            "Epoch 5/10\n",
            "8/8 [==============================] - 0s 3ms/step - loss: 15.8783\n",
            "Epoch 6/10\n",
            "8/8 [==============================] - 0s 3ms/step - loss: 18.1943\n",
            "Epoch 7/10\n",
            "8/8 [==============================] - 0s 3ms/step - loss: 21.2836\n",
            "Epoch 8/10\n",
            "8/8 [==============================] - 0s 4ms/step - loss: 25.1328\n",
            "Epoch 9/10\n",
            "8/8 [==============================] - 0s 3ms/step - loss: 29.2510\n",
            "Epoch 10/10\n",
            "8/8 [==============================] - 0s 3ms/step - loss: 33.9333\n",
            "32/32 [==============================] - 0s 2ms/step - loss: 36.9653\n"
          ]
        }
      ]
    },
    {
      "cell_type": "code",
      "source": [
        "score"
      ],
      "metadata": {
        "colab": {
          "base_uri": "https://localhost:8080/"
        },
        "id": "gU9df9bRad-n",
        "outputId": "fa455e55-b594-4fe7-cb2d-24bf2cd5da07"
      },
      "execution_count": 8,
      "outputs": [
        {
          "output_type": "execute_result",
          "data": {
            "text/plain": [
              "36.96532440185547"
            ]
          },
          "metadata": {},
          "execution_count": 8
        }
      ]
    },
    {
      "cell_type": "markdown",
      "source": [
        "다중입력 모델 예시(2개의 입력)"
      ],
      "metadata": {
        "id": "979QzR6maxIx"
      }
    },
    {
      "cell_type": "code",
      "source": [
        "from keras.models import Model\n",
        "from keras import layers\n",
        "from keras import Input\n",
        "\n",
        "text_vocabulary_size=10000\n",
        "question_vocabulary_size=10000\n",
        "answer_vocabulary_size=500\n",
        "\n",
        "text_input=Input(shape=(None,), dtype='int32', name='text')\n",
        "embedded_text=layers.Embedding(text_vocabulary_size,64)(text_input)\n",
        "encoded_text=layers.LSTM(32)(embedded_text)\n",
        "\n",
        "question_input=Input(shape=(None,), dtype='int32', name='question')\n",
        "embedded_question=layers.Embedding(question_vocabulary_size,32)(question_input)\n",
        "encoded_question=layers.LSTM(16)(embedded_question)\n",
        "\n",
        "concatenated=layers.concatenate([encoded_text, encoded_question], axis=-1)\n",
        "\n",
        "answer=layers.Dense(answer_vocabulary_size,activation='softmax')(concatenated)\n",
        "\n",
        "model=Model([text_input,question_input], answer)\n",
        "model.compile(optimizer='rmsprop', loss='categorical_crossentropy', metrics=['acc'])\n",
        "\n"
      ],
      "metadata": {
        "id": "uO5_d3xlahDa"
      },
      "execution_count": 14,
      "outputs": []
    },
    {
      "cell_type": "code",
      "source": [
        "import numpy as np\n",
        "from tensorflow.keras.utils import to_categorical\n",
        "\n",
        "num_samples=1000\n",
        "max_length=100\n",
        "\n",
        "text=np.random.randint(1,text_vocabulary_size, size=(num_samples, max_length))\n",
        "question=np.random.randint(1, question_vocabulary_size, size=(num_samples,max_length))\n",
        "answers=np.random.randint(0, answer_vocabulary_size, size=num_samples)\n",
        "\n",
        "answers=to_categorical(answers)\n",
        "model.fit([text, question], answers, epochs=10, batch_size=128)\n"
      ],
      "metadata": {
        "colab": {
          "base_uri": "https://localhost:8080/"
        },
        "id": "SymAgL9ShwUt",
        "outputId": "e26778cf-f260-4588-84a5-cbe69e01e5e7"
      },
      "execution_count": 16,
      "outputs": [
        {
          "output_type": "stream",
          "name": "stdout",
          "text": [
            "Epoch 1/10\n",
            "8/8 [==============================] - 5s 16ms/step - loss: 6.2146 - acc: 0.0030\n",
            "Epoch 2/10\n",
            "8/8 [==============================] - 0s 16ms/step - loss: 6.1960 - acc: 0.0400\n",
            "Epoch 3/10\n",
            "8/8 [==============================] - 0s 13ms/step - loss: 6.1251 - acc: 0.0070\n",
            "Epoch 4/10\n",
            "8/8 [==============================] - 0s 13ms/step - loss: 6.0398 - acc: 0.0050\n",
            "Epoch 5/10\n",
            "8/8 [==============================] - 0s 13ms/step - loss: 5.9665 - acc: 0.0090\n",
            "Epoch 6/10\n",
            "8/8 [==============================] - 0s 13ms/step - loss: 5.8528 - acc: 0.0140\n",
            "Epoch 7/10\n",
            "8/8 [==============================] - 0s 12ms/step - loss: 5.7644 - acc: 0.0140\n",
            "Epoch 8/10\n",
            "8/8 [==============================] - 0s 13ms/step - loss: 5.6744 - acc: 0.0200\n",
            "Epoch 9/10\n",
            "8/8 [==============================] - 0s 12ms/step - loss: 5.5928 - acc: 0.0200\n",
            "Epoch 10/10\n",
            "8/8 [==============================] - 0s 13ms/step - loss: 5.5198 - acc: 0.0240\n"
          ]
        },
        {
          "output_type": "execute_result",
          "data": {
            "text/plain": [
              "<keras.callbacks.History at 0x7f3c5fda8350>"
            ]
          },
          "metadata": {},
          "execution_count": 16
        }
      ]
    },
    {
      "cell_type": "code",
      "source": [
        "#이름으로 지정하는 방법\n",
        "model.fit({'text':text, 'question':question}, answers, epochs=10, batch_size=128)"
      ],
      "metadata": {
        "colab": {
          "base_uri": "https://localhost:8080/"
        },
        "id": "riZYqOI2mJCx",
        "outputId": "c96dd9aa-0530-4da3-f7bc-1f464fc8411d"
      },
      "execution_count": 18,
      "outputs": [
        {
          "output_type": "stream",
          "name": "stdout",
          "text": [
            "Epoch 1/10\n",
            "8/8 [==============================] - 0s 17ms/step - loss: 4.8791 - acc: 0.0810\n",
            "Epoch 2/10\n",
            "8/8 [==============================] - 0s 15ms/step - loss: 4.8377 - acc: 0.0900\n",
            "Epoch 3/10\n",
            "8/8 [==============================] - 0s 16ms/step - loss: 4.7534 - acc: 0.1050\n",
            "Epoch 4/10\n",
            "8/8 [==============================] - 0s 13ms/step - loss: 4.7238 - acc: 0.1130\n",
            "Epoch 5/10\n",
            "8/8 [==============================] - 0s 13ms/step - loss: 4.6570 - acc: 0.1210\n",
            "Epoch 6/10\n",
            "8/8 [==============================] - 0s 13ms/step - loss: 4.6317 - acc: 0.1300\n",
            "Epoch 7/10\n",
            "8/8 [==============================] - 0s 14ms/step - loss: 4.5860 - acc: 0.1240\n",
            "Epoch 8/10\n",
            "8/8 [==============================] - 0s 14ms/step - loss: 4.5267 - acc: 0.1410\n",
            "Epoch 9/10\n",
            "8/8 [==============================] - 0s 13ms/step - loss: 4.4703 - acc: 0.1420\n",
            "Epoch 10/10\n",
            "8/8 [==============================] - 0s 13ms/step - loss: 4.4699 - acc: 0.1530\n"
          ]
        },
        {
          "output_type": "execute_result",
          "data": {
            "text/plain": [
              "<keras.callbacks.History at 0x7f3c73b7dad0>"
            ]
          },
          "metadata": {},
          "execution_count": 18
        }
      ]
    },
    {
      "cell_type": "code",
      "source": [
        "from keras import layers\n",
        "from keras import Input\n",
        "from keras.models import Model\n",
        "\n",
        "vocabulary_size=50000\n",
        "num_income_groups=10\n",
        "\n",
        "posts_input=Input(shape=(None, ), dtype='int32', name='posts')\n",
        "embedded_posts=layers.Embedding(vocabulary_size, 256)(posts_input)\n",
        "x=layers.Conv1D(128, 5, activation='relu')(embedded_posts)\n",
        "x=layers.MaxPooling1D(5)(x)\n",
        "x=layers.Conv1D(256, 5, activation='relu')(x)\n",
        "x=layers.Conv1D(256, 5, activation='relu')(x)\n",
        "x=layers.MaxPooling1D(5)(x)\n",
        "x=layers.Conv1D(256, 5, activation='relu')(x)\n",
        "x=layers.Conv1D(256, 5, activation='relu')(x)\n",
        "x=layers.GlobalMaxPooling1D()(x)\n",
        "x=layers.Dense(128, activation='relu')(x)\n",
        "\n",
        "age_prediction=layers.Dense(1, name='age')(x)\n",
        "income_prediction=layers.Dense(num_income_groups, activation='softmax', name='income')(x)\n",
        "gender_prediction=layers.Dense(1, activation='sigmoid', name='gender')(x)\n",
        "\n",
        "model=Model(posts_input, [age_prediction, income_prediction, gender_prediction])\n",
        "\n",
        "model.compile(optimizer='rmsprop',loss=['mse', 'categorical_crossentropy', 'binary_crossentropy'])\n"
      ],
      "metadata": {
        "id": "1lBbQ2zXmiO1"
      },
      "execution_count": 20,
      "outputs": []
    },
    {
      "cell_type": "code",
      "source": [
        "#이름으로 지정하는 방법\n",
        "model.compile(optimizer='rmsprop', loss={'age':'mse',\n",
        "                                         'income':'categorical_crossentropy',\n",
        "                                         'gender':'binary_crossentropy'})"
      ],
      "metadata": {
        "id": "mZSvh6QXorlK"
      },
      "execution_count": 21,
      "outputs": []
    },
    {
      "cell_type": "markdown",
      "source": [
        "loss 값의 scale 차이로 인한 손실함수 훈련의 불균형 때문에 손실 가중치 추가"
      ],
      "metadata": {
        "id": "RWgYTxlMpCvf"
      }
    },
    {
      "cell_type": "code",
      "source": [
        "model.compile(optimizer='rmsprop', loss=['mse', 'categorical_crossentropy', 'binary_crossentropy'], loss_weights=[0.25, 1., 10.])\n"
      ],
      "metadata": {
        "id": "K4MACFwuo_F3"
      },
      "execution_count": 22,
      "outputs": []
    },
    {
      "cell_type": "code",
      "source": [
        "#이름으로 지정하는 방법\n",
        "model.compile(optimizer='rmsprop', loss={'age':'mse',\n",
        "                                         'income':'categorical_crossentropy',\n",
        "                                         'gender':'binary_crossentropy'},\n",
        "              loss_weights={'age':0.25, 'income':1., 'gender':10.})"
      ],
      "metadata": {
        "id": "bUyZTzEbpbbe"
      },
      "execution_count": 23,
      "outputs": []
    },
    {
      "cell_type": "code",
      "source": [
        "#있다고 가정\n",
        "model.fit(posts, [age_targets, income_targets, gender_targets], epochs=10, batch_size=64)\n",
        "#이름 버전\n",
        "model.fit(posts, {'age':age_targets,\n",
        "                  'income':income_targets,\n",
        "                  'gender':gender_targets},\n",
        "          epochs=10, batch_size=64)\n"
      ],
      "metadata": {
        "id": "XQ64dEFxp_BX"
      },
      "execution_count": null,
      "outputs": []
    },
    {
      "cell_type": "markdown",
      "source": [
        "인셉션 모델 간단 버전"
      ],
      "metadata": {
        "id": "nkqRFIFctCNS"
      }
    },
    {
      "cell_type": "code",
      "source": [
        "from keras import layers\n",
        "\n",
        "branch_a=layers.Conv2D(128, 1, activation='relu', strides=2)(x)\n",
        "\n",
        "branch_b=layers.Conv2D(128, 1, activation='relu')(x)\n",
        "branch_b=layers.Conv2D(128, 3, activation='relu', strides=2)(branch_b)\n",
        "\n",
        "branch_c=layers.AveragePooling2D(3, strides=2)(x)\n",
        "branch_c=layers.Conv2D(128, 3, activation='relu')(branch_c)\n",
        "\n",
        "branch_d=layers.Conv2D(128, 1, activation='relu')(x)\n",
        "branch_d=layers.Conv2D(128, 3, activation='relu')(branch_d)\n",
        "branch_d=layers.Conv2D(128, 3, activation='relu',strides=2)(branch_d)\n",
        "output=layers.concatenate([branch_a, branch_b, branch_c, branch_d], axis=-1)"
      ],
      "metadata": {
        "id": "2vK3t2BkqcNv"
      },
      "execution_count": null,
      "outputs": []
    },
    {
      "cell_type": "markdown",
      "source": [
        "잔차연결 모델 간단 버전\n"
      ],
      "metadata": {
        "id": "VasZbMJgvfpb"
      }
    },
    {
      "cell_type": "code",
      "source": [
        "from keras import layers\n",
        "\n",
        "x=...\n",
        "y=layers.Conv2D(128, 3, activation='relu', padding='same')(x)\n",
        "y=layers.Conv2D(128, 3, activation='relu', padding='same')(y)\n",
        "y=layers.Conv2D(128, 3, activation='relu', padding='same')(y)\n",
        "\n",
        "y=layers.add([y,x])\n"
      ],
      "metadata": {
        "id": "L45lLTHEvhq0"
      },
      "execution_count": null,
      "outputs": []
    },
    {
      "cell_type": "code",
      "source": [
        "from keras import layers\n",
        "\n",
        "x=...\n",
        "y=layers.Conv2D(128, 3, activation='relu', padding='same')(x)\n",
        "y=layers.Conv2D(128, 3, activation='relu', padding='same')(y)\n",
        "y=layers.MaxPooling2D(2, strides=2)(y)\n",
        "\n",
        "\n",
        "residual=layers.Conv2D(128, 1, strides=2, padding='same')(x)\n",
        "\n",
        "y=layers.add([y,residual])"
      ],
      "metadata": {
        "id": "nQKmfF2Uv4zp"
      },
      "execution_count": null,
      "outputs": []
    }
  ]
}