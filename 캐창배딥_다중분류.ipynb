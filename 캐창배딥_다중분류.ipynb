{
  "nbformat": 4,
  "nbformat_minor": 0,
  "metadata": {
    "colab": {
      "name": "캐창배딥_다중분류",
      "provenance": [],
      "authorship_tag": "ABX9TyOQwjeYRLFqaHB+Aq5vnUh0",
      "include_colab_link": true
    },
    "kernelspec": {
      "name": "python3",
      "display_name": "Python 3"
    },
    "language_info": {
      "name": "python"
    }
  },
  "cells": [
    {
      "cell_type": "markdown",
      "metadata": {
        "id": "view-in-github",
        "colab_type": "text"
      },
      "source": [
        "<a href=\"https://colab.research.google.com/github/shonyeajin/KCBD/blob/main/%EC%BA%90%EC%B0%BD%EB%B0%B0%EB%94%A5_%EB%8B%A4%EC%A4%91%EB%B6%84%EB%A5%98.ipynb\" target=\"_parent\"><img src=\"https://colab.research.google.com/assets/colab-badge.svg\" alt=\"Open In Colab\"/></a>"
      ]
    },
    {
      "cell_type": "code",
      "execution_count": 2,
      "metadata": {
        "colab": {
          "base_uri": "https://localhost:8080/"
        },
        "id": "HXWrbBINF2fl",
        "outputId": "23173986-864d-48a3-a22f-1cb9b4161ada"
      },
      "outputs": [
        {
          "output_type": "stream",
          "name": "stdout",
          "text": [
            "Downloading data from https://storage.googleapis.com/tensorflow/tf-keras-datasets/reuters.npz\n",
            "2113536/2110848 [==============================] - 0s 0us/step\n",
            "2121728/2110848 [==============================] - 0s 0us/step\n"
          ]
        }
      ],
      "source": [
        "from keras.datasets import reuters\n",
        "(train_data, train_labels),(test_data, test_labels)= reuters.load_data(num_words=10000)"
      ]
    },
    {
      "cell_type": "code",
      "source": [
        "import numpy as np\n",
        "\n",
        "def vectorize_sequences(sequences, dimention=10000):\n",
        "  results=np.zeros((len(sequences),dimention))\n",
        "  for i, sequence in enumerate(sequences):\n",
        "    results[i,sequence]=1.\n",
        "  return results\n",
        "x_train=vectorize_sequences(train_data)\n",
        "x_test=vectorize_sequences(test_data)"
      ],
      "metadata": {
        "id": "y0fjpHcsGhEs"
      },
      "execution_count": 3,
      "outputs": []
    },
    {
      "cell_type": "code",
      "source": [
        "from keras.utils.np_utils import to_categorical\n",
        "\n",
        "one_hot_train_labels=to_categorical(train_labels)\n",
        "one_hot_test_labels=to_categorical(test_labels)"
      ],
      "metadata": {
        "id": "xFVHXfsWLm-0"
      },
      "execution_count": 5,
      "outputs": []
    },
    {
      "cell_type": "code",
      "source": [
        "from keras import models\n",
        "from keras import layers\n",
        "\n",
        "model=models.Sequential()\n",
        "model.add(layers.Dense(64, activation='relu',input_shape=(10000,)))\n",
        "model.add(layers.Dense(64, activation='relu'))\n",
        "model.add(layers.Dense(46, activation='softmax'))"
      ],
      "metadata": {
        "id": "NhFOdHhuNE3w"
      },
      "execution_count": 9,
      "outputs": []
    },
    {
      "cell_type": "code",
      "source": [
        "model.compile(optimizer='rmsprop',\n",
        "              loss='categorical_crossentropy',\n",
        "              metrics=['accuracy'])"
      ],
      "metadata": {
        "id": "0u7oP3YlNp0a"
      },
      "execution_count": 11,
      "outputs": []
    },
    {
      "cell_type": "code",
      "source": [
        "x_val=x_train[:1000]\n",
        "partial_x_train=x_train[1000:]\n",
        "\n",
        "y_val=one_hot_train_labels[:1000]\n",
        "partial_y_train=one_hot_train_labels[1000:]"
      ],
      "metadata": {
        "id": "PXXLreb0N1_4"
      },
      "execution_count": 12,
      "outputs": []
    },
    {
      "cell_type": "code",
      "source": [
        "history=model.fit(partial_x_train, partial_y_train, epochs=20, batch_size=512, validation_data=(x_val, y_val))"
      ],
      "metadata": {
        "colab": {
          "base_uri": "https://localhost:8080/"
        },
        "id": "q_3VC-PMOle-",
        "outputId": "696cca36-7742-4395-99f2-482e5b3bec65"
      },
      "execution_count": 13,
      "outputs": [
        {
          "output_type": "stream",
          "name": "stdout",
          "text": [
            "Epoch 1/20\n",
            "16/16 [==============================] - 2s 65ms/step - loss: 2.4757 - accuracy: 0.4836 - val_loss: 1.6663 - val_accuracy: 0.6350\n",
            "Epoch 2/20\n",
            "16/16 [==============================] - 1s 49ms/step - loss: 1.3529 - accuracy: 0.7130 - val_loss: 1.2788 - val_accuracy: 0.7170\n",
            "Epoch 3/20\n",
            "16/16 [==============================] - 1s 48ms/step - loss: 1.0070 - accuracy: 0.7801 - val_loss: 1.1197 - val_accuracy: 0.7630\n",
            "Epoch 4/20\n",
            "16/16 [==============================] - 1s 50ms/step - loss: 0.7994 - accuracy: 0.8252 - val_loss: 1.0233 - val_accuracy: 0.7850\n",
            "Epoch 5/20\n",
            "16/16 [==============================] - 1s 50ms/step - loss: 0.6329 - accuracy: 0.8668 - val_loss: 0.9929 - val_accuracy: 0.7930\n",
            "Epoch 6/20\n",
            "16/16 [==============================] - 1s 49ms/step - loss: 0.5121 - accuracy: 0.8934 - val_loss: 0.9347 - val_accuracy: 0.8070\n",
            "Epoch 7/20\n",
            "16/16 [==============================] - 1s 48ms/step - loss: 0.4158 - accuracy: 0.9138 - val_loss: 0.9213 - val_accuracy: 0.8130\n",
            "Epoch 8/20\n",
            "16/16 [==============================] - 1s 49ms/step - loss: 0.3382 - accuracy: 0.9305 - val_loss: 0.9104 - val_accuracy: 0.8120\n",
            "Epoch 9/20\n",
            "16/16 [==============================] - 1s 49ms/step - loss: 0.2777 - accuracy: 0.9372 - val_loss: 0.9432 - val_accuracy: 0.8130\n",
            "Epoch 10/20\n",
            "16/16 [==============================] - 1s 50ms/step - loss: 0.2358 - accuracy: 0.9456 - val_loss: 0.9341 - val_accuracy: 0.8150\n",
            "Epoch 11/20\n",
            "16/16 [==============================] - 1s 49ms/step - loss: 0.2058 - accuracy: 0.9494 - val_loss: 0.9650 - val_accuracy: 0.8100\n",
            "Epoch 12/20\n",
            "16/16 [==============================] - 1s 50ms/step - loss: 0.1774 - accuracy: 0.9520 - val_loss: 0.9676 - val_accuracy: 0.8100\n",
            "Epoch 13/20\n",
            "16/16 [==============================] - 1s 49ms/step - loss: 0.1656 - accuracy: 0.9544 - val_loss: 0.9788 - val_accuracy: 0.8090\n",
            "Epoch 14/20\n",
            "16/16 [==============================] - 1s 50ms/step - loss: 0.1470 - accuracy: 0.9539 - val_loss: 1.0212 - val_accuracy: 0.8050\n",
            "Epoch 15/20\n",
            "16/16 [==============================] - 1s 49ms/step - loss: 0.1383 - accuracy: 0.9559 - val_loss: 1.0599 - val_accuracy: 0.8120\n",
            "Epoch 16/20\n",
            "16/16 [==============================] - 1s 49ms/step - loss: 0.1276 - accuracy: 0.9565 - val_loss: 1.0393 - val_accuracy: 0.8070\n",
            "Epoch 17/20\n",
            "16/16 [==============================] - 1s 49ms/step - loss: 0.1226 - accuracy: 0.9562 - val_loss: 1.0647 - val_accuracy: 0.8070\n",
            "Epoch 18/20\n",
            "16/16 [==============================] - 1s 51ms/step - loss: 0.1159 - accuracy: 0.9567 - val_loss: 1.0847 - val_accuracy: 0.8060\n",
            "Epoch 19/20\n",
            "16/16 [==============================] - 1s 51ms/step - loss: 0.1141 - accuracy: 0.9592 - val_loss: 1.0899 - val_accuracy: 0.8030\n",
            "Epoch 20/20\n",
            "16/16 [==============================] - 1s 48ms/step - loss: 0.1107 - accuracy: 0.9583 - val_loss: 1.1440 - val_accuracy: 0.8070\n"
          ]
        }
      ]
    },
    {
      "cell_type": "code",
      "source": [
        "import matplotlib.pyplot as plt\n",
        "\n",
        "loss=history.history['loss']\n",
        "val_loss=history.history['val_accuracy']\n",
        "\n",
        "epochs=range(1, len(loss)+1)\n",
        "\n",
        "plt.plot(epochs, loss, 'bo', label='Training loss')\n",
        "plt.plot(epochs, val_loss, 'b', label='Validation loss')\n",
        "plt.title('Training and validation loss')\n",
        "plt.xlabel('Epochs')\n",
        "plt.ylabel('Loss')\n",
        "plt.legend()\n",
        "\n",
        "plt.show()"
      ],
      "metadata": {
        "colab": {
          "base_uri": "https://localhost:8080/",
          "height": 295
        },
        "id": "uaO3-gxfOxyK",
        "outputId": "33217724-6430-4564-f853-280ad198edbb"
      },
      "execution_count": 21,
      "outputs": [
        {
          "output_type": "display_data",
          "data": {
            "image/png": "[encoded data removed]",
            "text/plain": [
              "<Figure size 432x288 with 1 Axes>"
            ]
          },
          "metadata": {
            "needs_background": "light"
          }
        }
      ]
    },
    {
      "cell_type": "code",
      "source": [
        "history.history"
      ],
      "metadata": {
        "colab": {
          "base_uri": "https://localhost:8080/"
        },
        "id": "mMOHdxvlRCUe",
        "outputId": "b08956cb-f09f-4540-9fda-3110da1e4116"
      },
      "execution_count": 24,
      "outputs": [
        {
          "output_type": "execute_result",
          "data": {
            "text/plain": [
              "{'accuracy': [0.4835880696773529,\n",
              "  0.7129791975021362,\n",
              "  0.7801302671432495,\n",
              "  0.8252317905426025,\n",
              "  0.8668253421783447,\n",
              "  0.893385112285614,\n",
              "  0.9138060808181763,\n",
              "  0.9304685592651367,\n",
              "  0.9372338056564331,\n",
              "  0.9456276893615723,\n",
              "  0.9493861198425293,\n",
              "  0.9520170092582703,\n",
              "  0.9543973803520203,\n",
              "  0.9538962841033936,\n",
              "  0.9559007883071899,\n",
              "  0.9565271735191345,\n",
              "  0.9561513662338257,\n",
              "  0.9566524624824524,\n",
              "  0.9591581225395203,\n",
              "  0.9582811594009399],\n",
              " 'loss': [2.475677728652954,\n",
              "  1.3528556823730469,\n",
              "  1.0069804191589355,\n",
              "  0.7993929982185364,\n",
              "  0.6328778862953186,\n",
              "  0.5121081471443176,\n",
              "  0.4158051311969757,\n",
              "  0.3381786644458771,\n",
              "  0.2777281403541565,\n",
              "  0.2358199805021286,\n",
              "  0.20583020150661469,\n",
              "  0.17740418016910553,\n",
              "  0.16559481620788574,\n",
              "  0.14699745178222656,\n",
              "  0.13826845586299896,\n",
              "  0.1275610476732254,\n",
              "  0.12260739505290985,\n",
              "  0.11593590676784515,\n",
              "  0.1140802875161171,\n",
              "  0.11071429401636124],\n",
              " 'val_accuracy': [0.6349999904632568,\n",
              "  0.7170000076293945,\n",
              "  0.7630000114440918,\n",
              "  0.7850000262260437,\n",
              "  0.7929999828338623,\n",
              "  0.8069999814033508,\n",
              "  0.8130000233650208,\n",
              "  0.8119999766349792,\n",
              "  0.8130000233650208,\n",
              "  0.8149999976158142,\n",
              "  0.8100000023841858,\n",
              "  0.8100000023841858,\n",
              "  0.8090000152587891,\n",
              "  0.8050000071525574,\n",
              "  0.8119999766349792,\n",
              "  0.8069999814033508,\n",
              "  0.8069999814033508,\n",
              "  0.8059999942779541,\n",
              "  0.8029999732971191,\n",
              "  0.8069999814033508],\n",
              " 'val_loss': [1.6663413047790527,\n",
              "  1.2788039445877075,\n",
              "  1.1197463274002075,\n",
              "  1.0232560634613037,\n",
              "  0.9929172396659851,\n",
              "  0.9346548318862915,\n",
              "  0.9213271737098694,\n",
              "  0.9103581309318542,\n",
              "  0.9432183504104614,\n",
              "  0.9341263771057129,\n",
              "  0.9649567604064941,\n",
              "  0.967573344707489,\n",
              "  0.978753924369812,\n",
              "  1.0212477445602417,\n",
              "  1.059882640838623,\n",
              "  1.0392521619796753,\n",
              "  1.0647079944610596,\n",
              "  1.0846577882766724,\n",
              "  1.0899416208267212,\n",
              "  1.143961787223816]}"
            ]
          },
          "metadata": {},
          "execution_count": 24
        }
      ]
    },
    {
      "cell_type": "code",
      "source": [
        "plt.clf()\n",
        "\n",
        "acc=history.history['accuracy']\n",
        "val_acc=history.history['val_accuracy']\n",
        "\n",
        "plt.plot(epochs, acc, 'bo', label='Training acc')\n",
        "plt.plot(epochs, val_acc, 'b', label='Validation acc')\n",
        "plt.title('Training and Validation accuracy')\n",
        "plt.xlabel('Epochs')\n",
        "plt.ylabel('Accuracy')\n",
        "plt.legend()\n",
        "\n",
        "plt.show()"
      ],
      "metadata": {
        "colab": {
          "base_uri": "https://localhost:8080/",
          "height": 295
        },
        "id": "-MXhl3XbQNTq",
        "outputId": "daf623b5-bdf7-4166-85ff-4aaa054fb1bb"
      },
      "execution_count": 25,
      "outputs": [
        {
          "output_type": "display_data",
          "data": {
            "image/png": "[encoded data removed]",
            "text/plain": [
              "<Figure size 432x288 with 1 Axes>"
            ]
          },
          "metadata": {
            "needs_background": "light"
          }
        }
      ]
    },
    {
      "cell_type": "markdown",
      "source": [
        "9번째 epoch 부터 과대적합 시작됨"
      ],
      "metadata": {
        "id": "iokz0z8yRUVa"
      }
    },
    {
      "cell_type": "code",
      "source": [
        "model=models.Sequential()\n",
        "model.add(layers.Dense(64, activation='relu',input_shape=(10000,)))\n",
        "model.add(layers.Dense(64, activation='relu'))\n",
        "model.add(layers.Dense(46, activation='softmax'))\n",
        "\n",
        "model.compile(optimizer='rmsprop',\n",
        "              loss='categorical_crossentropy',\n",
        "              metrics=['accuracy'])\n",
        "\n",
        "history=model.fit(partial_x_train, partial_y_train, epochs=9, batch_size=512, validation_data=(x_val, y_val))\n",
        "\n",
        "results=model.evaluate(x_test, one_hot_test_labels)"
      ],
      "metadata": {
        "colab": {
          "base_uri": "https://localhost:8080/"
        },
        "id": "KY42Y2JlRfS2",
        "outputId": "bee56b52-aabe-48e1-8840-c30f3d26c1f7"
      },
      "execution_count": 26,
      "outputs": [
        {
          "output_type": "stream",
          "name": "stdout",
          "text": [
            "Epoch 1/9\n",
            "16/16 [==============================] - 2s 77ms/step - loss: 2.5088 - accuracy: 0.5061 - val_loss: 1.6942 - val_accuracy: 0.6380\n",
            "Epoch 2/9\n",
            "16/16 [==============================] - 1s 49ms/step - loss: 1.3936 - accuracy: 0.7045 - val_loss: 1.3172 - val_accuracy: 0.6980\n",
            "Epoch 3/9\n",
            "16/16 [==============================] - 1s 48ms/step - loss: 1.0397 - accuracy: 0.7769 - val_loss: 1.1472 - val_accuracy: 0.7550\n",
            "Epoch 4/9\n",
            "16/16 [==============================] - 1s 48ms/step - loss: 0.8190 - accuracy: 0.8212 - val_loss: 1.0416 - val_accuracy: 0.7810\n",
            "Epoch 5/9\n",
            "16/16 [==============================] - 1s 49ms/step - loss: 0.6491 - accuracy: 0.8656 - val_loss: 0.9708 - val_accuracy: 0.7910\n",
            "Epoch 6/9\n",
            "16/16 [==============================] - 1s 49ms/step - loss: 0.5157 - accuracy: 0.8930 - val_loss: 0.9375 - val_accuracy: 0.8140\n",
            "Epoch 7/9\n",
            "16/16 [==============================] - 1s 50ms/step - loss: 0.4119 - accuracy: 0.9127 - val_loss: 0.9091 - val_accuracy: 0.8100\n",
            "Epoch 8/9\n",
            "16/16 [==============================] - 1s 48ms/step - loss: 0.3292 - accuracy: 0.9288 - val_loss: 0.9200 - val_accuracy: 0.8130\n",
            "Epoch 9/9\n",
            "16/16 [==============================] - 1s 48ms/step - loss: 0.2760 - accuracy: 0.9381 - val_loss: 0.8937 - val_accuracy: 0.8180\n",
            "71/71 [==============================] - 0s 3ms/step - loss: 0.9971 - accuracy: 0.7845\n"
          ]
        }
      ]
    },
    {
      "cell_type": "code",
      "source": [
        "results"
      ],
      "metadata": {
        "colab": {
          "base_uri": "https://localhost:8080/"
        },
        "id": "bp73mrCmS4HJ",
        "outputId": "722dd897-e975-45a7-e17a-810aaa075d2c"
      },
      "execution_count": 34,
      "outputs": [
        {
          "output_type": "execute_result",
          "data": {
            "text/plain": [
              "[0.9970802068710327, 0.7845057845115662]"
            ]
          },
          "metadata": {},
          "execution_count": 34
        }
      ]
    },
    {
      "cell_type": "code",
      "source": [
        "predictions=model.predict(x_test)"
      ],
      "metadata": {
        "id": "XXkKByWKSbjA"
      },
      "execution_count": 29,
      "outputs": []
    },
    {
      "cell_type": "code",
      "source": [
        "predictions[0].shape #길이가 46인 벡터\n",
        "np.sum(predictions[0]) #합이 1\n",
        "np.argmax(predictions[0]) # 가장 확률이 높은 클래스가 예측 클래스"
      ],
      "metadata": {
        "colab": {
          "base_uri": "https://localhost:8080/"
        },
        "id": "EOEQfwMJSiM4",
        "outputId": "e0fdea7a-7385-4e14-cf18-8a10cd05cd34"
      },
      "execution_count": 33,
      "outputs": [
        {
          "output_type": "execute_result",
          "data": {
            "text/plain": [
              "3"
            ]
          },
          "metadata": {},
          "execution_count": 33
        }
      ]
    }
  ]
}