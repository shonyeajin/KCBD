{
  "nbformat": 4,
  "nbformat_minor": 0,
  "metadata": {
    "colab": {
      "name": "케창배딥_imdb",
      "provenance": [],
      "authorship_tag": "ABX9TyOAZbdXhi6N0oZot396DHJm",
      "include_colab_link": true
    },
    "kernelspec": {
      "name": "python3",
      "display_name": "Python 3"
    },
    "language_info": {
      "name": "python"
    }
  },
  "cells": [
    {
      "cell_type": "markdown",
      "metadata": {
        "id": "view-in-github",
        "colab_type": "text"
      },
      "source": [
        "<a href=\"https://colab.research.google.com/github/shonyeajin/KCBD/blob/main/%EC%BC%80%EC%B0%BD%EB%B0%B0%EB%94%A5_imdb.ipynb\" target=\"_parent\"><img src=\"https://colab.research.google.com/assets/colab-badge.svg\" alt=\"Open In Colab\"/></a>"
      ]
    },
    {
      "cell_type": "code",
      "source": [
        "from keras.datasets import imdb"
      ],
      "metadata": {
        "id": "3tIcLL0g0I1d"
      },
      "execution_count": null,
      "outputs": []
    },
    {
      "cell_type": "code",
      "source": [
        "(train_data, train_labels),(test_data, test_labels)=imdb.load_data(num_words=10000)"
      ],
      "metadata": {
        "id": "2vS-sUwEIl8I"
      },
      "execution_count": null,
      "outputs": []
    },
    {
      "cell_type": "code",
      "source": [
        "max([max(sequence) for sequence in train_data])"
      ],
      "metadata": {
        "colab": {
          "base_uri": "https://localhost:8080/"
        },
        "id": "TEA7iTJUIyCw",
        "outputId": "d8904341-8264-4bee-a9c5-707107ff0591"
      },
      "execution_count": null,
      "outputs": [
        {
          "output_type": "execute_result",
          "data": {
            "text/plain": [
              "9999"
            ]
          },
          "metadata": {},
          "execution_count": 22
        }
      ]
    },
    {
      "cell_type": "code",
      "source": [
        "import numpy as np\n",
        "\n",
        "def vectorize_sequences(sequences, dimention=10000):\n",
        "  results=np.zeros((len(sequences),dimention))\n",
        "  for i, sequence in enumerate(sequences):\n",
        "    results[i,sequence]=1.\n",
        "  return results\n",
        "x_train=vectorize_sequences(train_data)\n",
        "x_test=vectorize_sequences(test_data)"
      ],
      "metadata": {
        "id": "rUVEAdcVI281"
      },
      "execution_count": null,
      "outputs": []
    },
    {
      "cell_type": "code",
      "source": [
        "y_train=np.asarray(train_labels).astype('float32')\n",
        "y_test=np.asarray(test_labels).astype('float32')"
      ],
      "metadata": {
        "id": "PFPq8NBTMgOu"
      },
      "execution_count": null,
      "outputs": []
    }
  ]
}