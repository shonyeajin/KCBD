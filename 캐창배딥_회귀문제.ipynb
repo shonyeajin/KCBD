{
  "nbformat": 4,
  "nbformat_minor": 0,
  "metadata": {
    "colab": {
      "name": "캐창배딥_회귀문제",
      "provenance": [],
      "authorship_tag": "ABX9TyOSbUGF9Et/8ACN6nbPoGse",
      "include_colab_link": true
    },
    "kernelspec": {
      "name": "python3",
      "display_name": "Python 3"
    },
    "language_info": {
      "name": "python"
    }
  },
  "cells": [
    {
      "cell_type": "markdown",
      "metadata": {
        "id": "view-in-github",
        "colab_type": "text"
      },
      "source": [
        "<a href=\"https://colab.research.google.com/github/shonyeajin/KCBD/blob/main/%EC%BA%90%EC%B0%BD%EB%B0%B0%EB%94%A5_%ED%9A%8C%EA%B7%80%EB%AC%B8%EC%A0%9C.ipynb\" target=\"_parent\"><img src=\"https://colab.research.google.com/assets/colab-badge.svg\" alt=\"Open In Colab\"/></a>"
      ]
    },
    {
      "cell_type": "code",
      "execution_count": 1,
      "metadata": {
        "colab": {
          "base_uri": "https://localhost:8080/"
        },
        "id": "U_TDyo3j7xOs",
        "outputId": "baa91aea-78ad-463a-f136-074c9681c4d1"
      },
      "outputs": [
        {
          "output_type": "stream",
          "name": "stdout",
          "text": [
            "Downloading data from https://storage.googleapis.com/tensorflow/tf-keras-datasets/boston_housing.npz\n",
            "57344/57026 [==============================] - 0s 0us/step\n",
            "65536/57026 [==================================] - 0s 0us/step\n"
          ]
        }
      ],
      "source": [
        "from keras.datasets import boston_housing\n",
        "\n",
        "(train_data, train_targets),(test_data, test_targets)= boston_housing.load_data()"
      ]
    },
    {
      "cell_type": "code",
      "source": [
        "train_data.shape"
      ],
      "metadata": {
        "colab": {
          "base_uri": "https://localhost:8080/"
        },
        "id": "0hXIXnYz9jwh",
        "outputId": "0b0d92ce-dbb4-43cd-a459-0ea5c2847622"
      },
      "execution_count": 2,
      "outputs": [
        {
          "output_type": "execute_result",
          "data": {
            "text/plain": [
              "(404, 13)"
            ]
          },
          "metadata": {},
          "execution_count": 2
        }
      ]
    },
    {
      "cell_type": "code",
      "source": [
        "test_data.shape"
      ],
      "metadata": {
        "colab": {
          "base_uri": "https://localhost:8080/"
        },
        "id": "F75lwG7J9oiX",
        "outputId": "b859e222-5409-4d0f-f7c5-a98f07902686"
      },
      "execution_count": 3,
      "outputs": [
        {
          "output_type": "execute_result",
          "data": {
            "text/plain": [
              "(102, 13)"
            ]
          },
          "metadata": {},
          "execution_count": 3
        }
      ]
    },
    {
      "cell_type": "code",
      "source": [
        "#정규화\n",
        "mean=train_data.mean(axis=0)\n",
        "train_data-=mean\n",
        "std=train_data.std(axis=0)\n",
        "train_data/=std\n",
        "\n",
        "test_data-=mean\n",
        "test_data/=std"
      ],
      "metadata": {
        "id": "xLIcJi5j9q86"
      },
      "execution_count": 4,
      "outputs": []
    },
    {
      "cell_type": "code",
      "source": [
        "train_data.shape[1]"
      ],
      "metadata": {
        "colab": {
          "base_uri": "https://localhost:8080/"
        },
        "id": "7l7xnl5m-dsM",
        "outputId": "aa96c328-ce09-425c-bbc5-273159366692"
      },
      "execution_count": 6,
      "outputs": [
        {
          "output_type": "execute_result",
          "data": {
            "text/plain": [
              "13"
            ]
          },
          "metadata": {},
          "execution_count": 6
        }
      ]
    },
    {
      "cell_type": "code",
      "source": [
        "#모델 구성\n",
        "from keras import models\n",
        "from keras import layers\n",
        "import tensorflow as tf\n",
        "\n",
        "def build_model():\n",
        "  model=models.Sequential()\n",
        "  model.add(layers.Dense(64, activation='relu', input_shape=(train_data.shape[1],)))\n",
        "  model.add(layers.Dense(64, activation='relu'))\n",
        "  model.add(layers.Dense(1))\n",
        "  model.compile(optimizer='rmsprop',loss='mse',metrics=[tf.keras.metrics.MeanAbsoluteError()]) # mse: 평균제곱 오차, mae:평균절대 오차\n",
        "  return model"
      ],
      "metadata": {
        "id": "fiNxRZ849_eL"
      },
      "execution_count": 10,
      "outputs": []
    },
    {
      "cell_type": "markdown",
      "source": [
        "K-fold cross-validation (k겹 교차 검증)"
      ],
      "metadata": {
        "id": "QCNOblXqAnJ_"
      }
    },
    {
      "cell_type": "code",
      "source": [
        "import numpy as np\n",
        "\n",
        "k=4 #fold size\n",
        "num_val_samples=len(train_data)//k\n",
        "num_epochs=100\n",
        "all_scores=[]\n",
        "for i in range(k):\n",
        "  print('처리중인 폴드 #',i)\n",
        "  val_data=train_data[i*num_val_samples:(i+1)*num_val_samples]\n",
        "  val_targets=train_targets[i*num_val_samples:(i+1)*num_val_samples]\n",
        "\n",
        "  partial_train_data=np.concatenate( # 검증 폴드로 쓰일 부분 제외 다른 폴드 다 합쳐서 train용으로 쓰기\n",
        "      [train_data[:i*num_val_samples], train_data[(i+1)*num_val_samples:]],\n",
        "      axis=0\n",
        "  )\n",
        "  partial_train_targets=np.concatenate(\n",
        "      [train_targets[:i*num_val_samples], train_targets[(i+1)*num_val_samples:]],\n",
        "      axis=0\n",
        "  )\n",
        "\n",
        "  model= build_model()\n",
        "  model.fit(partial_train_data, partial_train_targets,epochs=num_epochs,batch_size=1, verbose=0)\n",
        "  val_mse, val_mae= model.evaluate(val_data, val_targets,verbose=0)\n",
        "  all_scores.append(val_mae)\n"
      ],
      "metadata": {
        "colab": {
          "base_uri": "https://localhost:8080/"
        },
        "id": "O5U_rNGq-5LL",
        "outputId": "347599cd-5aee-41e2-e5f0-03a0e5baffb4"
      },
      "execution_count": 8,
      "outputs": [
        {
          "output_type": "stream",
          "name": "stdout",
          "text": [
            "처리중인 폴드 # 0\n",
            "처리중인 폴드 # 1\n",
            "처리중인 폴드 # 2\n",
            "처리중인 폴드 # 3\n"
          ]
        }
      ]
    },
    {
      "cell_type": "markdown",
      "source": [
        "각 폴드에서 검증 점수를 로그에 저장하기"
      ],
      "metadata": {
        "id": "aZ0yqZXfDgz6"
      }
    },
    {
      "cell_type": "code",
      "source": [
        "num_epochs=500\n",
        "all_mae_histories=[]\n",
        "for i in range(k):\n",
        "  print('처리중인 폴드 #',i)\n",
        "  val_data=train_data[i*num_val_samples:(i+1)*num_val_samples]\n",
        "  val_targets=train_targets[i*num_val_samples:(i+1)*num_val_samples]\n",
        "\n",
        "  partial_train_data=np.concatenate( # 검증 폴드로 쓰일 부분 제외 다른 폴드 다 합쳐서 train용으로 쓰기\n",
        "      [train_data[:i*num_val_samples], train_data[(i+1)*num_val_samples:]],\n",
        "      axis=0\n",
        "  )\n",
        "  partial_train_targets=np.concatenate(\n",
        "      [train_targets[:i*num_val_samples], train_targets[(i+1)*num_val_samples:]],\n",
        "      axis=0\n",
        "  )\n",
        "  model= build_model()\n",
        "  history=model.fit(partial_train_data, partial_train_targets,epochs=num_epochs,batch_size=1, verbose=0)\n",
        "  mae_history=history.history['mean_absolute_error']\n",
        "  all_mae_histories.append(mae_history)"
      ],
      "metadata": {
        "colab": {
          "base_uri": "https://localhost:8080/"
        },
        "id": "3SmpMfS3CwnX",
        "outputId": "fd108919-e61c-4ea8-d5db-a7f9ceb86f6e"
      },
      "execution_count": 13,
      "outputs": [
        {
          "output_type": "stream",
          "name": "stdout",
          "text": [
            "처리중인 폴드 # 0\n",
            "처리중인 폴드 # 1\n",
            "처리중인 폴드 # 2\n",
            "처리중인 폴드 # 3\n"
          ]
        }
      ]
    },
    {
      "cell_type": "code",
      "source": [
        "average_mae_history=[np.mean([x[i] for x in all_mae_histories]) for i in range(num_epochs)]"
      ],
      "metadata": {
        "id": "uT3zRTIpENEK"
      },
      "execution_count": 16,
      "outputs": []
    },
    {
      "cell_type": "code",
      "source": [
        "import matplotlib.pyplot as plt\n",
        "\n",
        "plt.plot(range(1, len(average_mae_history)+1), average_mae_history)\n",
        "plt.xlabel('Epochs')\n",
        "plt.ylabel('Validation MAE')\n",
        "plt.show()"
      ],
      "metadata": {
        "colab": {
          "base_uri": "https://localhost:8080/",
          "height": 279
        },
        "id": "d9eKBWHtKZA-",
        "outputId": "31315c14-db92-46e7-a6cd-2bb8e365456c"
      },
      "execution_count": 19,
      "outputs": [
        {
          "output_type": "display_data",
          "data": {
            "image/png": "[encoded data removed]",
            "text/plain": [
              "<Figure size 432x288 with 1 Axes>"
            ]
          },
          "metadata": {
            "needs_background": "light"
          }
        }
      ]
    },
    {
      "cell_type": "markdown",
      "source": [
        "앞의 10개 빼고 지수이동평균(exponential moving average)로 대체"
      ],
      "metadata": {
        "id": "DpZGIf3PLBQj"
      }
    },
    {
      "cell_type": "code",
      "source": [
        "def smooth_curve(points, factor=0.9):\n",
        "  smoothed_point=[]\n",
        "  for point in points:\n",
        "    if smoothed_point:\n",
        "      previous=smoothed_point[-1]\n",
        "      smoothed_point.append(previous*factor+point*(1-factor))\n",
        "    else:\n",
        "      smoothed_point.append(point)\n",
        "  return smoothed_point\n",
        "\n",
        "smooth_mae_history=smooth_curve(average_mae_history[10:])\n",
        "\n",
        "plt.plot(range(1, len(smooth_mae_history)+1), smooth_mae_history)\n",
        "plt.xlabel('Epochs')\n",
        "plt.ylabel('Validation MAE')\n",
        "plt.show()\n"
      ],
      "metadata": {
        "colab": {
          "base_uri": "https://localhost:8080/",
          "height": 279
        },
        "id": "PbcLWtMIKwiO",
        "outputId": "11d4bd9c-dcda-4359-8355-ac8135af3b5e"
      },
      "execution_count": 21,
      "outputs": [
        {
          "output_type": "display_data",
          "data": {
            "image/png": "[encoded data removed]",
            "text/plain": [
              "<Figure size 432x288 with 1 Axes>"
            ]
          },
          "metadata": {
            "needs_background": "light"
          }
        }
      ]
    },
    {
      "cell_type": "markdown",
      "source": [
        "val로 해야하는데 train의 데이터로 해서 망했음-> history 에서 key 값 제대로 추출해서 다시 해보기"
      ],
      "metadata": {
        "id": "laUU8WD3MpQy"
      }
    },
    {
      "cell_type": "code",
      "source": [
        "model=build_model()\n",
        "model.fit(train_data, train_targets, epochs=80, batch_size=1, verbose=0)\n",
        "test_mse_score, test_mae_score=model.evaluate(test_data, test_targets)"
      ],
      "metadata": {
        "colab": {
          "base_uri": "https://localhost:8080/"
        },
        "id": "NPpXrGnJLkyX",
        "outputId": "0a13e10e-f0ca-4fb8-cad8-af7815066917"
      },
      "execution_count": 23,
      "outputs": [
        {
          "output_type": "stream",
          "name": "stdout",
          "text": [
            "4/4 [==============================] - 0s 4ms/step - loss: 12.2642 - mean_absolute_error: 2.3129\n"
          ]
        }
      ]
    },
    {
      "cell_type": "code",
      "source": [
        ""
      ],
      "metadata": {
        "id": "vYJT2d31NG4E"
      },
      "execution_count": null,
      "outputs": []
    }
  ]
}