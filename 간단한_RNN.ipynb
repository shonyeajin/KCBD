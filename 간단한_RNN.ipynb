{
  "nbformat": 4,
  "nbformat_minor": 0,
  "metadata": {
    "colab": {
      "name": "간단한 RNN",
      "provenance": [],
      "authorship_tag": "ABX9TyP1mUPUcbX0k/IdzvzcEv3F",
      "include_colab_link": true
    },
    "kernelspec": {
      "name": "python3",
      "display_name": "Python 3"
    },
    "language_info": {
      "name": "python"
    },
    "accelerator": "TPU"
  },
  "cells": [
    {
      "cell_type": "markdown",
      "metadata": {
        "id": "view-in-github",
        "colab_type": "text"
      },
      "source": [
        "<a href=\"https://colab.research.google.com/github/shonyeajin/KCBD/blob/main/%EA%B0%84%EB%8B%A8%ED%95%9C_RNN.ipynb\" target=\"_parent\"><img src=\"https://colab.research.google.com/assets/colab-badge.svg\" alt=\"Open In Colab\"/></a>"
      ]
    },
    {
      "cell_type": "code",
      "execution_count": 1,
      "metadata": {
        "id": "8xA_t7zccN1z"
      },
      "outputs": [],
      "source": [
        "import numpy as np"
      ]
    },
    {
      "cell_type": "code",
      "source": [
        "timesteps=100\n",
        "input_features=32\n",
        "output_features=64\n",
        "\n",
        "inputs=np.random.random((timesteps, input_features))\n",
        "\n",
        "state_t=np.zeros((output_features, ))"
      ],
      "metadata": {
        "id": "ISdPxCbifmY5"
      },
      "execution_count": 3,
      "outputs": []
    },
    {
      "cell_type": "code",
      "source": [
        "W = np.random.random((output_features,input_features))\n",
        "U = np.random.random((output_features,output_features))\n",
        "b = np.random.random((output_features,))"
      ],
      "metadata": {
        "id": "GUcfOzaRf3tn"
      },
      "execution_count": 6,
      "outputs": []
    },
    {
      "cell_type": "code",
      "source": [
        "successive_outputs=[]\n",
        "for input_t in inputs:\n",
        "  output_t=np.tanh(np.dot(W,input_t) + np.dot(U,state_t) + b)\n",
        "  successive_outputs.append(output_t)\n",
        "  state_t=output_t\n",
        "\n",
        "final_output_sequence=np.stack(successive_outputs,axis=0)"
      ],
      "metadata": {
        "id": "JdSOLxZeg2ip"
      },
      "execution_count": 9,
      "outputs": []
    },
    {
      "cell_type": "markdown",
      "source": [
        "위에서 구현한 것이 실제로 SimpleRNN에 해당한다"
      ],
      "metadata": {
        "id": "yT3vipJLiqkp"
      }
    },
    {
      "cell_type": "code",
      "source": [
        "from keras.layers import SimpleRNN"
      ],
      "metadata": {
        "id": "UGhDBchQhrh8"
      },
      "execution_count": 11,
      "outputs": []
    },
    {
      "cell_type": "markdown",
      "source": [
        "마지막 타임스텝의 output만 출력하는 예시"
      ],
      "metadata": {
        "id": "xzLjEB_Xj0MR"
      }
    },
    {
      "cell_type": "code",
      "source": [
        "from keras.models import Sequential\n",
        "from keras.layers import Embedding, SimpleRNN\n",
        "\n",
        "model=Sequential()\n",
        "model.add(Embedding(10000, 32))\n",
        "model.add(SimpleRNN(32))\n",
        "model.summary()"
      ],
      "metadata": {
        "colab": {
          "base_uri": "https://localhost:8080/"
        },
        "id": "uhglZbvyiyku",
        "outputId": "9ccd4b9e-c699-4ce3-a6c1-207626199d43"
      },
      "execution_count": 15,
      "outputs": [
        {
          "output_type": "stream",
          "name": "stdout",
          "text": [
            "Model: \"sequential\"\n",
            "_________________________________________________________________\n",
            " Layer (type)                Output Shape              Param #   \n",
            "=================================================================\n",
            " embedding (Embedding)       (None, None, 32)          320000    \n",
            "                                                                 \n",
            " simple_rnn (SimpleRNN)      (None, 32)                2080      \n",
            "                                                                 \n",
            "=================================================================\n",
            "Total params: 322,080\n",
            "Trainable params: 322,080\n",
            "Non-trainable params: 0\n",
            "_________________________________________________________________\n"
          ]
        }
      ]
    },
    {
      "cell_type": "markdown",
      "source": [
        "전체 타임스텝의 output을 출력하는 예시"
      ],
      "metadata": {
        "id": "JejHsDVMj-i6"
      }
    },
    {
      "cell_type": "code",
      "source": [
        "model=Sequential()\n",
        "model.add(Embedding(10000,32))\n",
        "model.add(SimpleRNN(32, return_sequences=True))\n",
        "model.summary()"
      ],
      "metadata": {
        "colab": {
          "base_uri": "https://localhost:8080/"
        },
        "id": "YCN4f7vrjRkz",
        "outputId": "1e7b6fb6-013b-41a9-f135-f8dc85cd0963"
      },
      "execution_count": 17,
      "outputs": [
        {
          "output_type": "stream",
          "name": "stdout",
          "text": [
            "Model: \"sequential_1\"\n",
            "_________________________________________________________________\n",
            " Layer (type)                Output Shape              Param #   \n",
            "=================================================================\n",
            " embedding_1 (Embedding)     (None, None, 32)          320000    \n",
            "                                                                 \n",
            " simple_rnn_1 (SimpleRNN)    (None, None, 32)          2080      \n",
            "                                                                 \n",
            "=================================================================\n",
            "Total params: 322,080\n",
            "Trainable params: 322,080\n",
            "Non-trainable params: 0\n",
            "_________________________________________________________________\n"
          ]
        }
      ]
    },
    {
      "cell_type": "code",
      "source": [
        "model= Sequential()\n",
        "model.add(Embedding(10000,32))\n",
        "model.add(SimpleRNN(32, return_sequences=True))\n",
        "model.add(SimpleRNN(32, return_sequences=True))\n",
        "model.add(SimpleRNN(32, return_sequences=True))\n",
        "model.add(SimpleRNN(32))\n",
        "model.summary()"
      ],
      "metadata": {
        "colab": {
          "base_uri": "https://localhost:8080/"
        },
        "id": "3hXL22F7lNlM",
        "outputId": "47dab4c5-115e-47dc-af27-f414df8647ba"
      },
      "execution_count": 18,
      "outputs": [
        {
          "output_type": "stream",
          "name": "stdout",
          "text": [
            "Model: \"sequential_2\"\n",
            "_________________________________________________________________\n",
            " Layer (type)                Output Shape              Param #   \n",
            "=================================================================\n",
            " embedding_2 (Embedding)     (None, None, 32)          320000    \n",
            "                                                                 \n",
            " simple_rnn_2 (SimpleRNN)    (None, None, 32)          2080      \n",
            "                                                                 \n",
            " simple_rnn_3 (SimpleRNN)    (None, None, 32)          2080      \n",
            "                                                                 \n",
            " simple_rnn_4 (SimpleRNN)    (None, None, 32)          2080      \n",
            "                                                                 \n",
            " simple_rnn_5 (SimpleRNN)    (None, 32)                2080      \n",
            "                                                                 \n",
            "=================================================================\n",
            "Total params: 328,320\n",
            "Trainable params: 328,320\n",
            "Non-trainable params: 0\n",
            "_________________________________________________________________\n"
          ]
        }
      ]
    },
    {
      "cell_type": "markdown",
      "source": [
        "IMDB 데이터에 적용해보기"
      ],
      "metadata": {
        "id": "PtdPKCi9kYYT"
      }
    },
    {
      "cell_type": "code",
      "source": [
        "from keras.datasets import imdb\n",
        "from keras.preprocessing import sequence\n",
        "\n",
        "max_features=10000\n",
        "maxlen=500\n",
        "batch_size=32\n",
        "\n",
        "print('데이터 로딩...')\n",
        "(input_train, y_train),(input_test, y_test)= imdb.load_data(num_words=max_features)\n",
        "print(len(input_train),'훈련 시퀀스')\n",
        "print(len(input_test),'테스트 시퀀스')"
      ],
      "metadata": {
        "colab": {
          "base_uri": "https://localhost:8080/"
        },
        "id": "ytjCyxBljwx6",
        "outputId": "a3da97e9-c8ae-49ca-bdd9-daf245066d61"
      },
      "execution_count": 19,
      "outputs": [
        {
          "output_type": "stream",
          "name": "stdout",
          "text": [
            "데이터 로딩...\n",
            "Downloading data from https://storage.googleapis.com/tensorflow/tf-keras-datasets/imdb.npz\n",
            "17465344/17464789 [==============================] - 0s 0us/step\n",
            "17473536/17464789 [==============================] - 0s 0us/step\n",
            "25000 훈련 시퀀스\n",
            "25000 테스트 시퀀스\n"
          ]
        }
      ]
    },
    {
      "cell_type": "code",
      "source": [
        "print('시퀀스 패딩 (samles X time)')\n",
        "input_train=sequence.pad_sequences(input_train, maxlen=maxlen)\n",
        "input_test=sequence.pad_sequences(input_test, maxlen=maxlen)\n",
        "print('input_train 크기:',input_train.shape)\n",
        "print('input_test 크기:',input_test.shape)"
      ],
      "metadata": {
        "colab": {
          "base_uri": "https://localhost:8080/"
        },
        "id": "IsBraKhmowLT",
        "outputId": "465bcb35-ee30-4c78-a330-b0ee9d6d40c8"
      },
      "execution_count": 20,
      "outputs": [
        {
          "output_type": "stream",
          "name": "stdout",
          "text": [
            "시퀀스 패딩 (samles X time)\n",
            "input_train 크기: (25000, 500)\n",
            "input_test 크기: (25000, 500)\n"
          ]
        }
      ]
    },
    {
      "cell_type": "code",
      "source": [
        "from keras.layers import Dense\n",
        "\n",
        "model = Sequential()\n",
        "model.add(Embedding(max_features, 32))\n",
        "model.add(SimpleRNN(32))\n",
        "model.add(Dense(1, activation='sigmoid'))\n",
        "\n",
        "model.compile(optimizer='rmsprop', loss='binary_crossentropy', metrics=['acc'])\n",
        "history=model.fit(input_train, y_train,\n",
        "                  epochs=10,\n",
        "                  batch_size=128,\n",
        "                  validation_split=0.2)"
      ],
      "metadata": {
        "colab": {
          "base_uri": "https://localhost:8080/"
        },
        "id": "KeJlVdQZpQDg",
        "outputId": "26bdbd92-9a38-4847-e420-2ac4d80a763b"
      },
      "execution_count": 23,
      "outputs": [
        {
          "output_type": "stream",
          "name": "stdout",
          "text": [
            "Epoch 1/10\n",
            "157/157 [==============================] - 26s 156ms/step - loss: 0.6226 - acc: 0.6338 - val_loss: 0.4476 - val_acc: 0.7998\n",
            "Epoch 2/10\n",
            "157/157 [==============================] - 24s 153ms/step - loss: 0.3815 - acc: 0.8396 - val_loss: 0.3616 - val_acc: 0.8520\n",
            "Epoch 3/10\n",
            "157/157 [==============================] - 24s 151ms/step - loss: 0.2788 - acc: 0.8903 - val_loss: 0.4239 - val_acc: 0.8086\n",
            "Epoch 4/10\n",
            "157/157 [==============================] - 24s 154ms/step - loss: 0.2346 - acc: 0.9115 - val_loss: 0.3438 - val_acc: 0.8584\n",
            "Epoch 5/10\n",
            "157/157 [==============================] - 24s 154ms/step - loss: 0.1716 - acc: 0.9357 - val_loss: 0.3548 - val_acc: 0.8682\n",
            "Epoch 6/10\n",
            "157/157 [==============================] - 24s 155ms/step - loss: 0.1259 - acc: 0.9566 - val_loss: 0.4143 - val_acc: 0.8422\n",
            "Epoch 7/10\n",
            "157/157 [==============================] - 24s 152ms/step - loss: 0.0860 - acc: 0.9713 - val_loss: 0.5198 - val_acc: 0.7924\n",
            "Epoch 8/10\n",
            "157/157 [==============================] - 24s 154ms/step - loss: 0.0594 - acc: 0.9808 - val_loss: 0.5823 - val_acc: 0.7700\n",
            "Epoch 9/10\n",
            "157/157 [==============================] - 24s 155ms/step - loss: 0.0388 - acc: 0.9883 - val_loss: 0.5077 - val_acc: 0.8644\n",
            "Epoch 10/10\n",
            "157/157 [==============================] - 24s 151ms/step - loss: 0.0356 - acc: 0.9888 - val_loss: 0.5728 - val_acc: 0.8368\n"
          ]
        }
      ]
    },
    {
      "cell_type": "code",
      "source": [
        "import matplotlib.pyplot as plt"
      ],
      "metadata": {
        "id": "0J0JcumYp-a6"
      },
      "execution_count": 24,
      "outputs": []
    },
    {
      "cell_type": "code",
      "source": [
        "acc=history.history['acc']\n",
        "val_acc=history.history['val_acc']\n",
        "loss=history.history['loss']\n",
        "val_loss=history.history['val_loss']\n",
        "\n",
        "epochs=range(1,len(acc)+1)\n",
        "\n",
        "plt.plot(epochs, acc, 'bo', label='Training acc')\n",
        "plt.plot(epochs, val_acc, 'b', label='Vaildation acc')\n",
        "plt.title('Training and validation accuracy')\n",
        "plt.legend()\n",
        "\n",
        "plt.figure()\n",
        "\n",
        "plt.plot(epochs, loss, 'bo', label='Training loss')\n",
        "plt.plot(epochs,val_loss, 'b', label='Validation loss' )\n",
        "plt.title('Training and validation loss')\n",
        "plt.legend()\n",
        "\n",
        "plt.show()"
      ],
      "metadata": {
        "colab": {
          "base_uri": "https://localhost:8080/",
          "height": 545
        },
        "id": "qLEDwowitK8I",
        "outputId": "144b7a42-f4cb-4311-e730-99b5f5f15a87"
      },
      "execution_count": 26,
      "outputs": [
        {
          "output_type": "display_data",
          "data": {
            "image/png": "[encoded data removed]",
            "text/plain": [
              "<Figure size 432x288 with 1 Axes>"
            ]
          },
          "metadata": {
            "needs_background": "light"
          }
        },
        {
          "output_type": "display_data",
          "data": {
            "image/png": "[encoded data removed]",
            "text/plain": [
              "<Figure size 432x288 with 1 Axes>"
            ]
          },
          "metadata": {
            "needs_background": "light"
          }
        }
      ]
    },
    {
      "cell_type": "code",
      "source": [
        ""
      ],
      "metadata": {
        "id": "QqN5LNdi5tTZ"
      },
      "execution_count": null,
      "outputs": []
    }
  ]
}